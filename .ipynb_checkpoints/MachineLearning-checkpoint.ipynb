{
 "cells": [
  {
   "cell_type": "code",
   "execution_count": 1,
   "id": "47789573-2e27-4553-aeff-2daeaed9a7d5",
   "metadata": {},
   "outputs": [],
   "source": [
    "import os \n",
    "import re\n",
    "import pickle\n",
    "import collections\n",
    "import sklearn \n",
    "\n",
    "import skimage.io\n",
    "import skimage.color\n",
    "import skimage.feature\n",
    "import skimage.transform\n",
    "\n",
    "import numpy as np\n",
    "import pandas as pd \n",
    "import seaborn as sns\n",
    "import matplotlib.pyplot as plt \n",
    "\n",
    "from glob import glob\n",
    "from sklearn import metrics\n",
    "from sklearn.model_selection import train_test_split\n",
    "\n",
    "\n",
    "%matplotlib inline"
   ]
  },
  {
   "cell_type": "code",
   "execution_count": 2,
   "id": "7e1acd71-023a-4f19-b955-22dda890335f",
   "metadata": {},
   "outputs": [],
   "source": [
    "# Load the data "
   ]
  },
  {
   "cell_type": "code",
   "execution_count": 5,
   "id": "83abe628-6017-4781-885c-c1c2dd8167aa",
   "metadata": {},
   "outputs": [
    {
     "data": {
      "text/plain": [
       "dict_keys(['description', 'data', 'target', 'labels'])"
      ]
     },
     "execution_count": 5,
     "metadata": {},
     "output_type": "execute_result"
    }
   ],
   "source": [
    "data = pickle.load(open('data_animals_head_20.pickle','rb'))\n",
    "data.keys()"
   ]
  },
  {
   "cell_type": "code",
   "execution_count": 6,
   "id": "6b4ba883-529a-4bd8-81f9-c68e2b04e45f",
   "metadata": {},
   "outputs": [
    {
     "data": {
      "text/plain": [
       "'There are 20 classes and 2023 images of size 80x80x3'"
      ]
     },
     "execution_count": 6,
     "metadata": {},
     "output_type": "execute_result"
    }
   ],
   "source": [
    "data['description']"
   ]
  },
  {
   "cell_type": "code",
   "execution_count": 7,
   "id": "ba884f6e-be29-4671-b90a-e7da1f951fa1",
   "metadata": {},
   "outputs": [],
   "source": [
    "#split the data \n",
    "X = data['data']\n",
    "y = data['target']"
   ]
  },
  {
   "cell_type": "code",
   "execution_count": 8,
   "id": "cf390ae7-2c8d-4111-88f3-6e94f5ed90c0",
   "metadata": {},
   "outputs": [],
   "source": [
    "X_train, X_test, y_train, y_test = train_test_split(\n",
    "    X, y, test_size=0.2, stratify=y )"
   ]
  },
  {
   "cell_type": "code",
   "execution_count": 10,
   "id": "46a1fb6d-e1e2-4eb5-af39-60f80033b220",
   "metadata": {},
   "outputs": [
    {
     "data": {
      "text/plain": [
       "((1618, 80, 80, 3), (405, 80, 80, 3), 1618, 405)"
      ]
     },
     "execution_count": 10,
     "metadata": {},
     "output_type": "execute_result"
    }
   ],
   "source": [
    "X_train.shape, X_test.shape, len(y_train), len(y_test)"
   ]
  },
  {
   "cell_type": "code",
   "execution_count": null,
   "id": "59107075-a0a8-42b9-8580-5288baf81359",
   "metadata": {},
   "outputs": [],
   "source": []
  }
 ],
 "metadata": {
  "kernelspec": {
   "display_name": "Python 3 (ipykernel)",
   "language": "python",
   "name": "python3"
  },
  "language_info": {
   "codemirror_mode": {
    "name": "ipython",
    "version": 3
   },
   "file_extension": ".py",
   "mimetype": "text/x-python",
   "name": "python",
   "nbconvert_exporter": "python",
   "pygments_lexer": "ipython3",
   "version": "3.9.6"
  }
 },
 "nbformat": 4,
 "nbformat_minor": 5
}
