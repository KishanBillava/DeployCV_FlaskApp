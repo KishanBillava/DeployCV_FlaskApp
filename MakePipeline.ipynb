{
 "cells": [
  {
   "cell_type": "code",
   "execution_count": 45,
   "id": "54ca7eb4-45d5-4067-8e91-5bd5b24eb95b",
   "metadata": {},
   "outputs": [],
   "source": [
    "import os\n",
    "import pickle\n",
    "\n",
    "import numpy as np\n",
    "import pandas as pd \n",
    "import scipy \n",
    "import matplotlib.pyplot as plt\n",
    "import sklearn\n",
    "from sklearn.pipeline import make_pipeline\n",
    "from sklearn.base import BaseEstimator, TransformerMixin\n",
    "\n",
    "# skimage\n",
    "import skimage\n",
    "import skimage.color\n",
    "import skimage.transform\n",
    "import skimage.feature\n",
    "import skimage.io\n",
    "\n",
    "%matplotlib inline"
   ]
  },
  {
   "cell_type": "code",
   "execution_count": 46,
   "id": "36aed3eb-952c-4320-857c-6c30b502d69e",
   "metadata": {},
   "outputs": [],
   "source": [
    "class rgb2gray_transform(BaseEstimator, TransformerMixin):\n",
    "    def __init__(self):\n",
    "        pass\n",
    "    def fit(self,X,y=None):\n",
    "        return self\n",
    "    def transform(self,X,y=None):\n",
    "        return np.array([skimage.color.rgb2gray(x) for x in X])"
   ]
  },
  {
   "cell_type": "code",
   "execution_count": 47,
   "id": "b296e810-cb55-4aea-b017-1d4758d7017e",
   "metadata": {},
   "outputs": [],
   "source": [
    "class hogtransformer(BaseEstimator, TransformerMixin):\n",
    "    def __init__(self, orientations=9, \n",
    "                 pixels_per_cell=(8, 8), \n",
    "                 cells_per_block=(3, 3)):\n",
    "        self.orientations = orientations\n",
    "        self.pixels_per_cell = pixels_per_cell\n",
    "        self.cells_per_block = cells_per_block\n",
    "    \n",
    "    def fit(self, X, y=None):\n",
    "        return self\n",
    "    \n",
    "    def transform(self,X, y=None):\n",
    "        def local_hog(img):\n",
    "            hog_feature = skimage.feature.hog(img,\n",
    "                orientations= self.orientations,\n",
    "                pixels_per_cell= self.pixels_per_cell,\n",
    "                cells_per_block=self.cells_per_block)\n",
    "            return hog_feature\n",
    "        hog_features = np.array([local_hog(x) for x in X])\n",
    "        # hog_img = np.array([local_hog(x) for x in X])\n",
    "        return hog_features"
   ]
  },
  {
   "cell_type": "code",
   "execution_count": 48,
   "id": "7fe0ba50-7a50-4a90-98f5-61411fed949b",
   "metadata": {},
   "outputs": [],
   "source": [
    "# pipeline model\n",
    "image  = skimage.io.imread('images/eagle.jpg')\n",
    "# transform image into 80x80\n",
    "image_resize = skimage.transform.resize(image, (80,80))\n",
    "image_scale = 255*image_resize\n",
    "image_transform = image_scale.astype(np.uint8)\n",
    "# rgb to gray\n",
    "gray = skimage.color.rgb2gray(image_transform)\n",
    "# hog feature \n",
    "feature_vector = skimage.feature.hog(    gray,\n",
    "                                    orientations=9,\n",
    "                                    pixels_per_cell=(8, 8),\n",
    "                                    cells_per_block=(2, 2),)"
   ]
  },
  {
   "cell_type": "code",
   "execution_count": 49,
   "id": "85879fb5-87ae-4be2-99ec-6308f05d9657",
   "metadata": {},
   "outputs": [],
   "source": [
    "# load the model\n",
    "model = pickle.load(open('dsa_image_classification_sgd.pickle','rb'))\n",
    "scalar = pickle.load(open('dsa_scalar.pickle', 'rb'))"
   ]
  },
  {
   "cell_type": "code",
   "execution_count": 50,
   "id": "ab7e1f81-086f-4cca-a35c-e0269444879d",
   "metadata": {},
   "outputs": [
    {
     "data": {
      "text/plain": [
       "{'alpha': 0.01,\n",
       " 'average': False,\n",
       " 'class_weight': None,\n",
       " 'early_stopping': True,\n",
       " 'epsilon': 0.1,\n",
       " 'eta0': 0.0,\n",
       " 'fit_intercept': True,\n",
       " 'l1_ratio': 0.15,\n",
       " 'learning_rate': 'optimal',\n",
       " 'loss': 'perceptron',\n",
       " 'max_iter': 1000,\n",
       " 'n_iter_no_change': 5,\n",
       " 'n_jobs': None,\n",
       " 'penalty': 'l2',\n",
       " 'power_t': 0.5,\n",
       " 'random_state': None,\n",
       " 'shuffle': True,\n",
       " 'tol': 0.001,\n",
       " 'validation_fraction': 0.1,\n",
       " 'verbose': 0,\n",
       " 'warm_start': False}"
      ]
     },
     "execution_count": 50,
     "metadata": {},
     "output_type": "execute_result"
    }
   ],
   "source": [
    "model.get_params()"
   ]
  },
  {
   "cell_type": "code",
   "execution_count": 51,
   "id": "82f5d6c5-79bc-479d-806b-92e1a338654a",
   "metadata": {},
   "outputs": [
    {
     "data": {
      "text/plain": [
       "(2916,)"
      ]
     },
     "execution_count": 51,
     "metadata": {},
     "output_type": "execute_result"
    }
   ],
   "source": [
    "feature_vector.shape"
   ]
  },
  {
   "cell_type": "code",
   "execution_count": 52,
   "id": "56a90aaa-e2f4-4ba9-8217-411eb20a69d6",
   "metadata": {},
   "outputs": [],
   "source": [
    "scalex = scalar.transform(feature_vector.reshape(1,-1))\n",
    "result  = model.predict(scalex)"
   ]
  },
  {
   "cell_type": "code",
   "execution_count": 53,
   "id": "fcd6a810-bb12-4461-8306-6142406aaa8a",
   "metadata": {},
   "outputs": [
    {
     "data": {
      "text/plain": [
       "array(['eagle'], dtype='<U8')"
      ]
     },
     "execution_count": 53,
     "metadata": {},
     "output_type": "execute_result"
    }
   ],
   "source": [
    "result"
   ]
  },
  {
   "cell_type": "code",
   "execution_count": 54,
   "id": "1fbdcde0-6a3d-4b30-8e54-d3e2b242f64e",
   "metadata": {},
   "outputs": [],
   "source": [
    "# probability "
   ]
  },
  {
   "cell_type": "code",
   "execution_count": 57,
   "id": "6662f2da-394d-4966-b33b-f67016b9b1d0",
   "metadata": {},
   "outputs": [],
   "source": [
    "decision_value = model.decision_function(scalex)"
   ]
  },
  {
   "cell_type": "code",
   "execution_count": 58,
   "id": "bb44d421-bed1-464a-a45f-ea7d919ef4eb",
   "metadata": {},
   "outputs": [
    {
     "data": {
      "text/plain": [
       "array([[-145.83928829, -172.47472947, -112.64485865, -148.19271887,\n",
       "        -211.35297652, -177.8747186 ,  -22.82089969,   31.48659877,\n",
       "        -239.57489592, -194.78966493, -275.35597196,  -98.59580006,\n",
       "        -291.81046125, -190.76664237, -102.72177821,  -87.26626331,\n",
       "        -174.37597803, -188.34971809, -120.58117919, -307.13359695]])"
      ]
     },
     "execution_count": 58,
     "metadata": {},
     "output_type": "execute_result"
    }
   ],
   "source": [
    "decision_value"
   ]
  },
  {
   "cell_type": "code",
   "execution_count": 61,
   "id": "86ab5943-bb89-48e1-8da6-6e43f5707b2f",
   "metadata": {},
   "outputs": [],
   "source": [
    "labels = model.classes_"
   ]
  },
  {
   "cell_type": "code",
   "execution_count": 62,
   "id": "04001794-eb67-41a7-bbb8-d04a34dcf08e",
   "metadata": {},
   "outputs": [
    {
     "data": {
      "text/plain": [
       "(1, 20)"
      ]
     },
     "execution_count": 62,
     "metadata": {},
     "output_type": "execute_result"
    }
   ],
   "source": [
    "decision_value.shape"
   ]
  },
  {
   "cell_type": "code",
   "execution_count": 63,
   "id": "7b0c2136-8c2e-46f5-a602-e35b418741ef",
   "metadata": {},
   "outputs": [],
   "source": [
    "decision_value = decision_value.flatten()"
   ]
  },
  {
   "cell_type": "code",
   "execution_count": 64,
   "id": "2eb1f916-9361-4ead-ac8d-e164792ff511",
   "metadata": {},
   "outputs": [
    {
     "data": {
      "text/plain": [
       "(20,)"
      ]
     },
     "execution_count": 64,
     "metadata": {},
     "output_type": "execute_result"
    }
   ],
   "source": [
    "decision_value.shape"
   ]
  },
  {
   "cell_type": "code",
   "execution_count": 66,
   "id": "64ca4d15-1df4-4fd1-9016-a794707f0a3b",
   "metadata": {},
   "outputs": [
    {
     "data": {
      "text/plain": [
       "<BarContainer object of 20 artists>"
      ]
     },
     "execution_count": 66,
     "metadata": {},
     "output_type": "execute_result"
    },
    {
     "data": {
      "image/png": "[encoded data removed]",
      "text/plain": [
       "<Figure size 432x288 with 1 Axes>"
      ]
     },
     "metadata": {
      "needs_background": "light"
     },
     "output_type": "display_data"
    }
   ],
   "source": [
    "plt.barh(labels, decision_value)"
   ]
  },
  {
   "cell_type": "code",
   "execution_count": 67,
   "id": "9b2a5753-8f02-439c-88c2-27a990a65829",
   "metadata": {},
   "outputs": [
    {
     "data": {
      "text/plain": [
       "array([0.03520631, 0.02551419, 0.05258896, 0.0342188 , 0.01594656,\n",
       "       0.02390183, 0.15576844, 0.30033043, 0.01133702, 0.01948166,\n",
       "       0.00735605, 0.06232375, 0.00602916, 0.02045254, 0.05929141,\n",
       "       0.07147181, 0.02493446, 0.02105893, 0.04777801, 0.00500967])"
      ]
     },
     "execution_count": 67,
     "metadata": {},
     "output_type": "execute_result"
    }
   ],
   "source": [
    "# cal z score\n",
    "\n",
    "z = scipy.stats.zscore(decision_value)\n",
    "prob_value = scipy.special.softmax(z)\n",
    "prob_value"
   ]
  },
  {
   "cell_type": "code",
   "execution_count": 68,
   "id": "e8b40950-dfc4-41aa-926e-af923799f351",
   "metadata": {},
   "outputs": [
    {
     "data": {
      "text/plain": [
       "<BarContainer object of 20 artists>"
      ]
     },
     "execution_count": 68,
     "metadata": {},
     "output_type": "execute_result"
    },
    {
     "data": {
      "image/png": "[encoded data removed]",
      "text/plain": [
       "<Figure size 432x288 with 1 Axes>"
      ]
     },
     "metadata": {
      "needs_background": "light"
     },
     "output_type": "display_data"
    }
   ],
   "source": [
    "plt.barh(labels, prob_value)"
   ]
  },
  {
   "cell_type": "code",
   "execution_count": 73,
   "id": "401637b2-cba8-4281-a37c-bbe2868f542a",
   "metadata": {},
   "outputs": [],
   "source": [
    "# top five probability \n",
    "top5_prob_ind  = prob_value.argsort()[::-1][:5]"
   ]
  },
  {
   "cell_type": "code",
   "execution_count": 74,
   "id": "4662ad0b-e338-458d-9674-adbe566af0e4",
   "metadata": {},
   "outputs": [
    {
     "data": {
      "text/plain": [
       "array([ 7,  6, 15, 11, 14])"
      ]
     },
     "execution_count": 74,
     "metadata": {},
     "output_type": "execute_result"
    }
   ],
   "source": [
    "top5_prob_ind"
   ]
  },
  {
   "cell_type": "code",
   "execution_count": 79,
   "id": "9028961d-5b96-425b-ba41-c229f58fa5f7",
   "metadata": {},
   "outputs": [],
   "source": [
    "top_lables = labels[top5_prob_ind]\n",
    "top_prob = prob_value[top5_prob_ind]"
   ]
  },
  {
   "cell_type": "code",
   "execution_count": 81,
   "id": "e0649e78-3d78-4dc3-9ea4-7c5bc5c6b8ca",
   "metadata": {},
   "outputs": [
    {
     "data": {
      "text/plain": [
       "<BarContainer object of 5 artists>"
      ]
     },
     "execution_count": 81,
     "metadata": {},
     "output_type": "execute_result"
    },
    {
     "data": {
      "image/png": "[encoded data removed]",
      "text/plain": [
       "<Figure size 432x288 with 1 Axes>"
      ]
     },
     "metadata": {
      "needs_background": "light"
     },
     "output_type": "display_data"
    }
   ],
   "source": [
    "plt.barh(top_lables, top_prob)"
   ]
  },
  {
   "cell_type": "code",
   "execution_count": 86,
   "id": "cf41ba9e-8034-4254-9000-27608b8d6b24",
   "metadata": {},
   "outputs": [
    {
     "name": "stdout",
     "output_type": "stream",
     "text": [
      "eagle 0.3\n",
      "duck 0.16\n",
      "pigeon 0.07\n",
      "monkey 0.06\n",
      "panda 0.06\n"
     ]
    }
   ],
   "source": [
    "top_dict = dict()\n",
    "for key,value in zip(top_lables, top_prob):\n",
    "    print(key, np.round(value,2))\n",
    "    top_dict.update({key:np.round(value,2)})"
   ]
  },
  {
   "cell_type": "code",
   "execution_count": 87,
   "id": "697fbaa0-abc1-44bb-8d4f-bd36e023a8e6",
   "metadata": {},
   "outputs": [
    {
     "data": {
      "text/plain": [
       "{'eagle': 0.3, 'duck': 0.16, 'pigeon': 0.07, 'monkey': 0.06, 'panda': 0.06}"
      ]
     },
     "execution_count": 87,
     "metadata": {},
     "output_type": "execute_result"
    }
   ],
   "source": [
    "top_dict"
   ]
  },
  {
   "cell_type": "code",
   "execution_count": 88,
   "id": "048ff10f-62d2-4a2f-b821-fa3b06ec51c8",
   "metadata": {},
   "outputs": [],
   "source": [
    "#"
   ]
  },
  {
   "cell_type": "code",
   "execution_count": 94,
   "id": "a619850f-d6ad-453b-902e-19eed311a480",
   "metadata": {},
   "outputs": [],
   "source": [
    "def pipeline_model(path,scalar_transform,model_sgd):\n",
    "    # pipeline model\n",
    "    image  = skimage.io.imread(path)\n",
    "    # transform image into 80x80\n",
    "    image_resize = skimage.transform.resize(image, (80,80))\n",
    "    image_scale = 255*image_resize\n",
    "    image_transform = image_scale.astype(np.uint8)\n",
    "    # rgb to gray\n",
    "    gray = skimage.color.rgb2gray(image_transform)\n",
    "    # hog feature \n",
    "    feature_vector = skimage.feature.hog(    gray,\n",
    "                                        orientations=9,\n",
    "                                        pixels_per_cell=(8, 8),\n",
    "                                        cells_per_block=(2, 2),)\n",
    "    \n",
    "    #scaling\n",
    "    scalex = scalar_transform.transform(feature_vector.reshape(1,-1))\n",
    "    result  = model_sgd.predict(scalex)\n",
    "    \n",
    "    # decision \n",
    "    decision_value = model.decision_function(scalex).flatten()\n",
    "    labels = model_sgd.classes_\n",
    "    # probability & confidence \n",
    "    z = scipy.stats.zscore(decision_value)\n",
    "    prob_value = scipy.special.softmax(z)\n",
    "    prob_value\n",
    "    # top 5 value\n",
    "    top5_prob_ind  = prob_value.argsort()[::-1][:5]\n",
    "    top_lables = labels[top5_prob_ind]\n",
    "    top_prob = prob_value[top5_prob_ind]\n",
    "    # put in dict\n",
    "    top_dict = dict()\n",
    "    for key,value in zip(top_lables, top_prob):\n",
    "        top_dict.update({key:np.round(value,2)})\n",
    "    \n",
    "    \n",
    "    \n",
    "    return top_dict"
   ]
  },
  {
   "cell_type": "code",
   "execution_count": 95,
   "id": "a0ddd79c-50d9-4816-85e0-22be291b1cbf",
   "metadata": {},
   "outputs": [
    {
     "data": {
      "text/plain": [
       "{'eagle': 0.3, 'duck': 0.16, 'pigeon': 0.07, 'monkey': 0.06, 'panda': 0.06}"
      ]
     },
     "execution_count": 95,
     "metadata": {},
     "output_type": "execute_result"
    }
   ],
   "source": [
    "res = pipeline_model('images/eagle.jpg',scalar,model)\n",
    "res"
   ]
  },
  {
   "cell_type": "code",
   "execution_count": null,
   "id": "024ad71a-1333-41a2-9a3b-7c0e0e064236",
   "metadata": {},
   "outputs": [],
   "source": []
  }
 ],
 "metadata": {
  "kernelspec": {
   "display_name": "Python 3 (ipykernel)",
   "language": "python",
   "name": "python3"
  },
  "language_info": {
   "codemirror_mode": {
    "name": "ipython",
    "version": 3
   },
   "file_extension": ".py",
   "mimetype": "text/x-python",
   "name": "python",
   "nbconvert_exporter": "python",
   "pygments_lexer": "ipython3",
   "version": "3.9.6"
  }
 },
 "nbformat": 4,
 "nbformat_minor": 5
}
